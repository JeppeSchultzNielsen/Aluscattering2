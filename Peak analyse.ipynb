{
 "cells": [
  {
   "cell_type": "code",
   "execution_count": 1,
   "id": "9da117ad",
   "metadata": {},
   "outputs": [],
   "source": [
    "from os import listdir\n",
    "from os.path import isfile, join\n",
    "import re\n",
    "import numpy as np\n",
    "import matplotlib.pyplot as plt\n",
    "from scipy.optimize import curve_fit\n",
    "import math as math\n",
    "from scipy.optimize import minimize\n",
    "import scipy.stats as ss\n",
    "from scipy.signal import find_peaks \n",
    "from matplotlib import rc\n",
    "import codecs\n",
    "\n",
    "SMALL_SIZE = 14\n",
    "MEDIUM_SIZE = 16\n",
    "BIGGER_SIZE = 20\n",
    "\n",
    "plt.rc('text', usetex=True)\n",
    "plt.rc('font', family='serif')\n",
    "plt.rc('font', size=SMALL_SIZE)          # controls default text sizes\n",
    "plt.rc('axes', titlesize=BIGGER_SIZE)     # fontsize of the axes title\n",
    "plt.rc('axes', labelsize=MEDIUM_SIZE)    # fontsize of the x and y labels\n",
    "plt.rc('xtick', labelsize=SMALL_SIZE)    # fontsize of the tick labels\n",
    "plt.rc('ytick', labelsize=SMALL_SIZE)    # fontsize of the tick labels\n",
    "plt.rc('legend', fontsize=SMALL_SIZE)    # legend fontsize\n",
    "plt.rc('figure', titlesize=BIGGER_SIZE)  # fontsize of the figure title\n",
    "\n",
    "#en figur der fylder en kolonne har bredde 5,8, f.eks: fig, ax= plt.subplots(figsize=(5.8,4))\n",
    "#en figur der fylder to kolonner har dobbeltbredde??"
   ]
  },
  {
   "cell_type": "code",
   "execution_count": 2,
   "id": "83ecc364",
   "metadata": {},
   "outputs": [],
   "source": [
    "#til at slå op i masses.dat\n",
    "data = np.transpose(np.loadtxt(\"masses.txt\"))\n",
    "\n",
    "N=data[0]\n",
    "Z=data[1]\n",
    "A=data[2]\n",
    "massExcess=data[3]\n",
    "bEPrNkl=data[4]\n",
    "\n",
    "mp = 938.272\n",
    "me = 0.510998\n",
    "mn = 939.565\n",
    "\n",
    "def me2(a, z):\n",
    "    a_indices = np.where(A == a)\n",
    "    z_indices = np.where(Z == z)\n",
    "    a = lambda: print('Could not find mass excess for given numbers')\n",
    "    for i in range(len(a_indices[0])):\n",
    "        if np.any(z_indices[0] == a_indices[0][i]):\n",
    "            me = massExcess[a_indices[0][i]]/1000\n",
    "            a = lambda: me\n",
    "    return a()\n",
    "\n",
    "def m2(a,z): \n",
    "    return a*931.49410242+me2(a,z)"
   ]
  },
  {
   "cell_type": "code",
   "execution_count": 3,
   "id": "20de12df",
   "metadata": {},
   "outputs": [],
   "source": [
    "def factor(m1, m2, t): #t er lab scatteringvinkel i radianer.\n",
    "    mr = m1*m2/(m1+m2)\n",
    "    \n",
    "    def toSolve(x):\n",
    "        return 1/np.tan(x)+m1/m2*1/np.sin(x)-1/np.tan(t)\n",
    "    \n",
    "    vinkelCOM = fsolve(toSolve,t) #brug t som startgæt til fsolve\n",
    "    \n",
    "    return mr**2*(1/m1**2+1/m2**2+2/(m1*m2)*np.cos(vinkelCOM))"
   ]
  },
  {
   "cell_type": "code",
   "execution_count": 4,
   "id": "ad3dd4fd",
   "metadata": {},
   "outputs": [],
   "source": [
    "#beregn Tb ud fra 11.5 i Krane\n",
    "def Tb(t,Ta):\n",
    "    mY=m2(27,13)\n",
    "    ma=mp\n",
    "    mb=mp\n",
    "    return np.power((np.sqrt(ma*mb*Ta)*np.cos(t)+np.sqrt((ma*mb*Ta*np.cos(t)**2+(mY+mb)*(mY-ma)*Ta)))/(mY+mb),2)"
   ]
  },
  {
   "cell_type": "code",
   "execution_count": 5,
   "id": "1de163d2",
   "metadata": {},
   "outputs": [],
   "source": [
    "vinkler = np.linspace(0,180,1000)\n",
    "factors = []\n",
    "\n",
    "mypath = \"peaks\"\n",
    "peaktxts = [f for f in listdir(mypath) if isfile(join(mypath, f))]"
   ]
  },
  {
   "cell_type": "code",
   "execution_count": null,
   "id": "625d54cc",
   "metadata": {},
   "outputs": [],
   "source": []
  },
  {
   "cell_type": "code",
   "execution_count": 6,
   "id": "538bc3ba",
   "metadata": {},
   "outputs": [],
   "source": [
    "thetas = []\n",
    "peakpos = []\n",
    "energies = []\n",
    "pointsToFit = []\n",
    "anglesToFit = []\n",
    "errorsToFit = []\n",
    "fitindex = 0\n",
    "\n",
    "for i in range(len(peaktxts)):\n",
    "    energyGV = int(''.join(filter(str.isdigit, peaktxts[i])))\n",
    "    energies.append(energyGV)\n",
    "    adress = \"peaks/\" + peaktxts[i]\n",
    "    data = np.transpose(np.loadtxt(adress,skiprows=1))\n",
    "    thetas.append(data[0])\n",
    "    peakpos.append(data[1])\n",
    "    fittingGV = []\n",
    "    fittingTheta = []\n",
    "    fittingError = []\n",
    "    distance = 0.015*energyGV\n",
    "    for k in range(len(data[1])):\n",
    "        theta = data[0][k]\n",
    "        energyScatter = data[1][k]\n",
    "        energyError = data[2][k]\n",
    "        if(np.abs(energyScatter - Tb(theta/360*2*np.pi,energyGV)) <= distance):\n",
    "            fittingGV.append(energyScatter)\n",
    "            fittingTheta.append(theta)\n",
    "            fittingError.append(energyError)\n",
    "    pointsToFit.append(fittingGV)\n",
    "    anglesToFit.append(fittingTheta)\n",
    "    errorsToFit.append(fittingError)"
   ]
  },
  {
   "cell_type": "code",
   "execution_count": 7,
   "id": "038ad88b",
   "metadata": {},
   "outputs": [
    {
     "data": {
      "text/plain": [
       "Text(0.5, 1.0, 'Energy: 2001 keV')"
      ]
     },
     "execution_count": 7,
     "metadata": {},
     "output_type": "execute_result"
    },
    {
     "data": {
      "image/png": "[encoded data removed]",
      "text/plain": [
       "<Figure size 640x480 with 1 Axes>"
      ]
     },
     "metadata": {
      "needs_background": "light"
     },
     "output_type": "display_data"
    }
   ],
   "source": [
    "i = 1\n",
    "plt.figure(figsize=(8, 6), dpi=80)\n",
    "plt.plot(thetas[i],peakpos[i], '.', alpha=1)\n",
    "#plt.plot(vinkler,2000*np.array(factors))\n",
    "plt.plot(vinkler,Tb(vinkler/360*2*np.pi,energies[i]))\n",
    "plt.plot(anglesToFit[i],pointsToFit[i], '.')\n",
    "plt.ylim(energies[i]-1000,energies[i])\n",
    "plt.title('Energy: ' + str(energies[i]) + ' keV')"
   ]
  },
  {
   "cell_type": "code",
   "execution_count": 8,
   "id": "a476240e",
   "metadata": {},
   "outputs": [],
   "source": [
    "gvE = []\n",
    "mE = []\n",
    "mEerr = []\n",
    "\n",
    "for i in range(len(energies)):\n",
    "    popt, pcov = curve_fit(Tb,2*np.pi/360*np.array(anglesToFit[i]),pointsToFit[i],energies[i], sigma=errorsToFit[i],absolute_sigma=True)\n",
    "    gvE.append(energies[i]/1.17)\n",
    "    mE.append(popt[0])\n",
    "    mEerr.append(np.sqrt(pcov[0][0]))"
   ]
  },
  {
   "cell_type": "code",
   "execution_count": 9,
   "id": "5702a8a4",
   "metadata": {},
   "outputs": [
    {
     "data": {
      "text/plain": [
       "[[0.250344,\n",
       "  0.205689,\n",
       "  0.125803,\n",
       "  0.554602,\n",
       "  0.269352,\n",
       "  0.173902,\n",
       "  0.432923,\n",
       "  0.181553,\n",
       "  0.25184,\n",
       "  0.329034,\n",
       "  0.220121,\n",
       "  0.167048,\n",
       "  0.137506,\n",
       "  0.153241,\n",
       "  0.473204,\n",
       "  1.439108,\n",
       "  0.370821,\n",
       "  0.131895,\n",
       "  0.141472,\n",
       "  0.166119,\n",
       "  0.1625,\n",
       "  0.235195,\n",
       "  0.182638,\n",
       "  0.16938,\n",
       "  0.194827,\n",
       "  0.127834,\n",
       "  0.240177,\n",
       "  0.156819,\n",
       "  0.261246,\n",
       "  0.193551,\n",
       "  0.186115,\n",
       "  0.125791,\n",
       "  0.186843,\n",
       "  0.838378,\n",
       "  0.120807,\n",
       "  0.321025,\n",
       "  0.165881,\n",
       "  0.265774,\n",
       "  0.440951,\n",
       "  0.142054,\n",
       "  0.158612,\n",
       "  0.120312,\n",
       "  0.141607,\n",
       "  0.238169,\n",
       "  0.157736,\n",
       "  0.218924,\n",
       "  0.212913,\n",
       "  0.194624,\n",
       "  0.171316,\n",
       "  0.130618,\n",
       "  0.120025,\n",
       "  0.22691,\n",
       "  0.213563,\n",
       "  0.159128,\n",
       "  0.152196,\n",
       "  0.22663,\n",
       "  0.120345,\n",
       "  0.132289,\n",
       "  0.229328,\n",
       "  0.208525,\n",
       "  0.120418,\n",
       "  0.335121,\n",
       "  0.192245,\n",
       "  0.134982,\n",
       "  0.1447,\n",
       "  0.476118,\n",
       "  0.197627,\n",
       "  0.250918,\n",
       "  0.177433,\n",
       "  0.153477,\n",
       "  0.219843,\n",
       "  0.224994,\n",
       "  0.132208,\n",
       "  0.131716,\n",
       "  0.206114,\n",
       "  0.165798,\n",
       "  0.247326,\n",
       "  0.201275,\n",
       "  0.228877,\n",
       "  0.195614,\n",
       "  0.178278,\n",
       "  0.131029,\n",
       "  0.14731,\n",
       "  0.153135,\n",
       "  0.282279,\n",
       "  0.155221,\n",
       "  0.230608,\n",
       "  14119.955095,\n",
       "  0.145383,\n",
       "  0.2899,\n",
       "  1.24651,\n",
       "  0.234581,\n",
       "  0.185061,\n",
       "  291931.481013,\n",
       "  0.243475,\n",
       "  0.263254,\n",
       "  0.130146,\n",
       "  0.242965,\n",
       "  0.337401,\n",
       "  0.398643,\n",
       "  0.431722,\n",
       "  0.167668,\n",
       "  0.182573,\n",
       "  0.31865,\n",
       "  0.162298,\n",
       "  0.176558,\n",
       "  0.295035,\n",
       "  0.192217,\n",
       "  887243.969782,\n",
       "  0.44154,\n",
       "  116.733772,\n",
       "  0.474138,\n",
       "  0.554406,\n",
       "  0.925723,\n",
       "  5.671962,\n",
       "  0.842283,\n",
       "  1.001396],\n",
       " [0.189668,\n",
       "  0.134901,\n",
       "  0.488889,\n",
       "  0.184936,\n",
       "  0.126571,\n",
       "  0.107684,\n",
       "  0.124789,\n",
       "  0.213358,\n",
       "  0.322208,\n",
       "  0.11084,\n",
       "  0.119197,\n",
       "  0.128722,\n",
       "  0.138551,\n",
       "  0.17767,\n",
       "  0.151639,\n",
       "  0.162819,\n",
       "  0.164454,\n",
       "  0.178845,\n",
       "  0.277598,\n",
       "  0.153664,\n",
       "  0.245644,\n",
       "  0.243006,\n",
       "  0.171531,\n",
       "  0.229762,\n",
       "  0.27667,\n",
       "  0.402179,\n",
       "  184.463143,\n",
       "  0.211867,\n",
       "  0.165492,\n",
       "  0.166773,\n",
       "  0.18742,\n",
       "  0.18416,\n",
       "  0.129333,\n",
       "  0.155284,\n",
       "  0.222595,\n",
       "  0.162504,\n",
       "  0.123069,\n",
       "  0.213317,\n",
       "  0.195381,\n",
       "  0.124672,\n",
       "  0.172182,\n",
       "  0.135602,\n",
       "  0.180203,\n",
       "  0.373448,\n",
       "  0.411444,\n",
       "  0.200828,\n",
       "  0.165205,\n",
       "  0.221832,\n",
       "  0.207791,\n",
       "  0.151354,\n",
       "  0.210552,\n",
       "  0.282414,\n",
       "  0.214374,\n",
       "  0.127599,\n",
       "  0.19999,\n",
       "  0.294997,\n",
       "  0.193309,\n",
       "  0.219959,\n",
       "  0.220988,\n",
       "  0.120666,\n",
       "  0.266762,\n",
       "  0.189331,\n",
       "  0.165556,\n",
       "  0.31217,\n",
       "  0.241415,\n",
       "  0.204045,\n",
       "  0.206657,\n",
       "  0.324235,\n",
       "  0.254596,\n",
       "  0.203139,\n",
       "  0.147017,\n",
       "  0.166956,\n",
       "  0.229106,\n",
       "  0.22828,\n",
       "  0.312681,\n",
       "  0.210965,\n",
       "  0.166191,\n",
       "  0.222239,\n",
       "  0.310301,\n",
       "  0.144713,\n",
       "  0.156164,\n",
       "  0.162919,\n",
       "  0.300585,\n",
       "  0.308126,\n",
       "  0.288087,\n",
       "  0.253501,\n",
       "  0.270803,\n",
       "  0.269536,\n",
       "  0.139122,\n",
       "  0.363858,\n",
       "  0.123004,\n",
       "  0.525316,\n",
       "  0.812823,\n",
       "  0.391349,\n",
       "  0.386192,\n",
       "  0.363064,\n",
       "  0.145964,\n",
       "  0.711749,\n",
       "  0.927768,\n",
       "  0.477942,\n",
       "  0.372853,\n",
       "  734639.95896,\n",
       "  734640.016992,\n",
       "  1.160969,\n",
       "  9.187315,\n",
       "  35.687974],\n",
       " [0.162372,\n",
       "  0.297603,\n",
       "  0.184172,\n",
       "  0.235167,\n",
       "  0.403709,\n",
       "  0.121498,\n",
       "  0.531123,\n",
       "  0.216012,\n",
       "  0.270442,\n",
       "  0.336099,\n",
       "  0.20412,\n",
       "  0.209122,\n",
       "  0.183419,\n",
       "  0.155264,\n",
       "  0.132659,\n",
       "  0.527673,\n",
       "  0.457334,\n",
       "  0.134838,\n",
       "  0.165928,\n",
       "  0.231634,\n",
       "  0.206526,\n",
       "  0.184547,\n",
       "  0.175514,\n",
       "  0.199494,\n",
       "  0.154213,\n",
       "  0.150391,\n",
       "  0.395318,\n",
       "  0.236761,\n",
       "  0.134355,\n",
       "  0.229798,\n",
       "  0.443662,\n",
       "  0.123887,\n",
       "  0.309898,\n",
       "  0.163509,\n",
       "  0.208516,\n",
       "  0.160149,\n",
       "  0.136243,\n",
       "  0.17193,\n",
       "  0.122241,\n",
       "  0.435732,\n",
       "  0.167076,\n",
       "  0.742955,\n",
       "  0.294896,\n",
       "  0.11836,\n",
       "  0.162604,\n",
       "  0.168285,\n",
       "  0.184918,\n",
       "  0.123172,\n",
       "  0.124082,\n",
       "  0.134089,\n",
       "  0.133937,\n",
       "  0.191733,\n",
       "  0.252516,\n",
       "  0.164589,\n",
       "  0.158087,\n",
       "  0.176191,\n",
       "  0.12179,\n",
       "  0.198201,\n",
       "  0.186828,\n",
       "  0.151788,\n",
       "  0.226724,\n",
       "  0.15281,\n",
       "  0.15622,\n",
       "  0.201214,\n",
       "  0.217517,\n",
       "  0.161977,\n",
       "  0.222283,\n",
       "  0.186036,\n",
       "  0.1871,\n",
       "  0.159382,\n",
       "  0.247839,\n",
       "  0.128478,\n",
       "  0.228841,\n",
       "  0.209921,\n",
       "  0.154613,\n",
       "  0.363304,\n",
       "  0.337852,\n",
       "  0.921525,\n",
       "  0.202253,\n",
       "  0.21241,\n",
       "  0.207868,\n",
       "  0.168547,\n",
       "  0.265952,\n",
       "  0.222794,\n",
       "  0.535563,\n",
       "  0.161725,\n",
       "  0.180181,\n",
       "  0.250464,\n",
       "  0.306757,\n",
       "  0.170781,\n",
       "  0.18759,\n",
       "  0.270518,\n",
       "  0.339754,\n",
       "  13034.059087,\n",
       "  0.353916,\n",
       "  0.437537,\n",
       "  0.151531,\n",
       "  0.390741,\n",
       "  0.363436,\n",
       "  0.343149,\n",
       "  0.813202,\n",
       "  0.253778,\n",
       "  1.155617,\n",
       "  0.993653,\n",
       "  1721598.229473]]"
      ]
     },
     "execution_count": 9,
     "metadata": {},
     "output_type": "execute_result"
    }
   ],
   "source": [
    "errorsToFit"
   ]
  },
  {
   "cell_type": "code",
   "execution_count": 10,
   "id": "70915a6a",
   "metadata": {},
   "outputs": [],
   "source": [
    "def l(x,a):\n",
    "    return a*x\n",
    "\n",
    "popt,pcov = curve_fit(l,gvE,mE,sigma=mEerr,absolute_sigma = True)"
   ]
  },
  {
   "cell_type": "code",
   "execution_count": 11,
   "id": "3b17b465",
   "metadata": {},
   "outputs": [
    {
     "data": {
      "text/plain": [
       "<matplotlib.legend.Legend at 0x7fdd48b53b20>"
      ]
     },
     "execution_count": 11,
     "metadata": {},
     "output_type": "execute_result"
    },
    {
     "data": {
      "image/png": "[encoded data removed]",
      "text/plain": [
       "<Figure size 576x576 with 1 Axes>"
      ]
     },
     "metadata": {
      "needs_background": "light"
     },
     "output_type": "display_data"
    }
   ],
   "source": [
    "gvElinspace = np.linspace(1500,2700,1000)\n",
    "fig, ax = plt.subplots(figsize = [8,8])\n",
    "ax.errorbar(gvE,mE,yerr=mEerr,fmt='.',capsize=3, label = 'Data')\n",
    "ax.plot(gvElinspace,l(gvElinspace,*popt), label = r'y = a $\\cdot$ x with a=' + str(np.round(popt[0],4)))# + \", b=\" + str(np.round(popt[1],4)))\n",
    "ax.set_xlabel('GV energy [keV]')\n",
    "ax.set_ylabel('Fitted accelerator energy [keV]')\n",
    "ax.legend()"
   ]
  },
  {
   "cell_type": "code",
   "execution_count": 12,
   "id": "3d9a1288",
   "metadata": {},
   "outputs": [
    {
     "data": {
      "text/plain": [
       "1.163299044427249"
      ]
     },
     "execution_count": 12,
     "metadata": {},
     "output_type": "execute_result"
    }
   ],
   "source": [
    "popt[0]"
   ]
  },
  {
   "cell_type": "code",
   "execution_count": 13,
   "id": "d95ac038",
   "metadata": {},
   "outputs": [
    {
     "data": {
      "text/plain": [
       "array([[5.4694982e-06]])"
      ]
     },
     "execution_count": 13,
     "metadata": {},
     "output_type": "execute_result"
    }
   ],
   "source": [
    "np.sqrt(pcov)"
   ]
  },
  {
   "cell_type": "code",
   "execution_count": 18,
   "id": "162de311",
   "metadata": {},
   "outputs": [
    {
     "data": {
      "text/plain": [
       "Text(0.5, 1.0, 'Energy: 2500 keV')"
      ]
     },
     "execution_count": 18,
     "metadata": {},
     "output_type": "execute_result"
    },
    {
     "data": {
      "image/png": "[encoded data removed]",
      "text/plain": [
       "<Figure size 640x480 with 1 Axes>"
      ]
     },
     "metadata": {
      "needs_background": "light"
     },
     "output_type": "display_data"
    }
   ],
   "source": [
    "i = 0\n",
    "plt.figure(figsize=(8, 6), dpi=80)\n",
    "plt.plot(thetas[i],peakpos[i], '.', alpha=1)\n",
    "#plt.plot(vinkler,2000*np.array(factors))\n",
    "plt.plot(anglesToFit[i],pointsToFit[i], '.')\n",
    "plt.ylim(energies[i]-1000,energies[i])\n",
    "plt.plot(vinkler,Tb(vinkler/360*2*np.pi,mE[i]))\n",
    "plt.title('Energy: ' + str(energies[i]) + ' keV')"
   ]
  },
  {
   "cell_type": "code",
   "execution_count": 15,
   "id": "4fb7d150",
   "metadata": {},
   "outputs": [
    {
     "name": "stdout",
     "output_type": "stream",
     "text": [
      "1990.5170155225546\n"
     ]
    },
    {
     "data": {
      "image/png": "[encoded data removed]",
      "text/plain": [
       "<Figure size 640x480 with 1 Axes>"
      ]
     },
     "metadata": {
      "needs_background": "light"
     },
     "output_type": "display_data"
    }
   ],
   "source": [
    "i = 1\n",
    "plt.figure(figsize=(8, 6), dpi=80)\n",
    "plt.plot(thetas[i],peakpos[i], '.', alpha=1)\n",
    "#plt.plot(vinkler,2000*np.array(factors))\n",
    "plt.plot(vinkler,Tb(vinkler/360*2*np.pi,mE[i]))\n",
    "plt.plot(anglesToFit[i],pointsToFit[i], '.')\n",
    "plt.ylim(energies[i]-1000,energies[i])\n",
    "plt.title('Energy: ' + str(energies[i]) + ' keV')\n",
    "print(mE[i])"
   ]
  },
  {
   "cell_type": "code",
   "execution_count": 16,
   "id": "b48052b2",
   "metadata": {},
   "outputs": [
    {
     "data": {
      "text/plain": [
       "Text(0.5, 1.0, 'Energy: 3000 keV')"
      ]
     },
     "execution_count": 16,
     "metadata": {},
     "output_type": "execute_result"
    },
    {
     "data": {
      "image/png": "[encoded data removed]",
      "text/plain": [
       "<Figure size 640x480 with 1 Axes>"
      ]
     },
     "metadata": {
      "needs_background": "light"
     },
     "output_type": "display_data"
    }
   ],
   "source": [
    "i = 2\n",
    "plt.figure(figsize=(8, 6), dpi=80)\n",
    "plt.plot(thetas[i],peakpos[i], '.', alpha=1)\n",
    "#plt.plot(vinkler,2000*np.array(factors))\n",
    "plt.plot(vinkler,Tb(vinkler/360*2*np.pi,mE[i]))\n",
    "plt.plot(anglesToFit[i],pointsToFit[i], '.')\n",
    "plt.ylim(energies[i]-1000,energies[i])\n",
    "plt.title('Energy: ' + str(energies[i]) + ' keV')"
   ]
  },
  {
   "cell_type": "code",
   "execution_count": 17,
   "id": "d16b5be5",
   "metadata": {},
   "outputs": [
    {
     "data": {
      "text/plain": [
       "[2489.703477178201, 1990.5170155225546, 2978.3510416213576]"
      ]
     },
     "execution_count": 17,
     "metadata": {},
     "output_type": "execute_result"
    }
   ],
   "source": [
    "mE"
   ]
  },
  {
   "cell_type": "code",
   "execution_count": null,
   "id": "f9d406a7",
   "metadata": {},
   "outputs": [],
   "source": []
  }
 ],
 "metadata": {
  "kernelspec": {
   "display_name": "Python 3 (ipykernel)",
   "language": "python",
   "name": "python3"
  },
  "language_info": {
   "codemirror_mode": {
    "name": "ipython",
    "version": 3
   },
   "file_extension": ".py",
   "mimetype": "text/x-python",
   "name": "python",
   "nbconvert_exporter": "python",
   "pygments_lexer": "ipython3",
   "version": "3.9.7"
  }
 },
 "nbformat": 4,
 "nbformat_minor": 5
}
