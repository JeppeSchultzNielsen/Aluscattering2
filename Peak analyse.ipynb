{
 "cells": [
  {
   "cell_type": "code",
   "execution_count": 1,
   "id": "9da117ad",
   "metadata": {},
   "outputs": [],
   "source": [
    "from os import listdir\n",
    "from os.path import isfile, join\n",
    "import re\n",
    "import numpy as np\n",
    "import matplotlib.pyplot as plt\n",
    "from scipy.optimize import curve_fit\n",
    "import math as math\n",
    "from scipy.optimize import minimize\n",
    "import scipy.stats as ss\n",
    "from scipy.signal import find_peaks \n",
    "from matplotlib import rc\n",
    "import codecs\n",
    "\n",
    "SMALL_SIZE = 14\n",
    "MEDIUM_SIZE = 16\n",
    "BIGGER_SIZE = 20\n",
    "\n",
    "plt.rc('text', usetex=True)\n",
    "plt.rc('font', family='serif')\n",
    "plt.rc('font', size=SMALL_SIZE)          # controls default text sizes\n",
    "plt.rc('axes', titlesize=BIGGER_SIZE)     # fontsize of the axes title\n",
    "plt.rc('axes', labelsize=MEDIUM_SIZE)    # fontsize of the x and y labels\n",
    "plt.rc('xtick', labelsize=SMALL_SIZE)    # fontsize of the tick labels\n",
    "plt.rc('ytick', labelsize=SMALL_SIZE)    # fontsize of the tick labels\n",
    "plt.rc('legend', fontsize=SMALL_SIZE)    # legend fontsize\n",
    "plt.rc('figure', titlesize=BIGGER_SIZE)  # fontsize of the figure title\n",
    "\n",
    "#en figur der fylder en kolonne har bredde 5,8, f.eks: fig, ax= plt.subplots(figsize=(5.8,4))\n",
    "#en figur der fylder to kolonner har dobbeltbredde??"
   ]
  },
  {
   "cell_type": "code",
   "execution_count": 11,
   "id": "83ecc364",
   "metadata": {},
   "outputs": [],
   "source": [
    "#til at slå op i masses.dat\n",
    "data = np.transpose(np.loadtxt(\"masses.txt\"))\n",
    "\n",
    "N=data[0]\n",
    "Z=data[1]\n",
    "A=data[2]\n",
    "massExcess=data[3]\n",
    "bEPrNkl=data[4]\n",
    "\n",
    "mp = 938.272*1000\n",
    "me = 0.510998*1000\n",
    "mn = 939.565*1000\n",
    "\n",
    "def me2(a, z):\n",
    "    a_indices = np.where(A == a)\n",
    "    z_indices = np.where(Z == z)\n",
    "    a = lambda: print('Could not find mass excess for given numbers')\n",
    "    for i in range(len(a_indices[0])):\n",
    "        if np.any(z_indices[0] == a_indices[0][i]):\n",
    "            me = bEPrNkl[a_indices[0][i]]\n",
    "            a = lambda: me\n",
    "    return a()\n",
    "\n",
    "def m2(a,z): \n",
    "    return mp*z+(a-z)*mn-me2(a,z)*a"
   ]
  },
  {
   "cell_type": "code",
   "execution_count": 13,
   "id": "2e43633a",
   "metadata": {},
   "outputs": [
    {
     "data": {
      "text/plain": [
       "3727378.34"
      ]
     },
     "execution_count": 13,
     "metadata": {},
     "output_type": "execute_result"
    }
   ],
   "source": [
    "m2(4,2)"
   ]
  },
  {
   "cell_type": "code",
   "execution_count": 4,
   "id": "20de12df",
   "metadata": {},
   "outputs": [],
   "source": [
    "def factor(m1, m2, t): #t er lab scatteringvinkel i radianer.\n",
    "    mr = m1*m2/(m1+m2)\n",
    "    \n",
    "    def toSolve(x):\n",
    "        return 1/np.tan(x)+m1/m2*1/np.sin(x)-1/np.tan(t)\n",
    "    \n",
    "    vinkelCOM = fsolve(toSolve,t) #brug t som startgæt til fsolve\n",
    "    \n",
    "    return mr**2*(1/m1**2+1/m2**2+2/(m1*m2)*np.cos(vinkelCOM))"
   ]
  },
  {
   "cell_type": "code",
   "execution_count": 5,
   "id": "ad3dd4fd",
   "metadata": {},
   "outputs": [],
   "source": [
    "#beregn Tb ud fra 11.5 i Krane\n",
    "def Tb(t,Ta):\n",
    "    mY=m2(27,13)\n",
    "    ma=mp\n",
    "    mb=mp\n",
    "    return np.power((np.sqrt(ma*mb*Ta)*np.cos(t)+np.sqrt((ma*mb*Ta*np.cos(t)**2+(mY+mb)*(mY-ma)*Ta)))/(mY+mb),2)"
   ]
  },
  {
   "cell_type": "code",
   "execution_count": 6,
   "id": "1de163d2",
   "metadata": {},
   "outputs": [],
   "source": [
    "vinkler = np.linspace(0,180,1000)\n",
    "factors = []\n",
    "\n",
    "mypath = \"peaks\"\n",
    "peaktxts = [f for f in listdir(mypath) if isfile(join(mypath, f))]"
   ]
  },
  {
   "cell_type": "code",
   "execution_count": null,
   "id": "625d54cc",
   "metadata": {},
   "outputs": [],
   "source": []
  },
  {
   "cell_type": "code",
   "execution_count": 7,
   "id": "538bc3ba",
   "metadata": {},
   "outputs": [],
   "source": [
    "thetas = []\n",
    "peakpos = []\n",
    "energies = []\n",
    "pointsToFit = []\n",
    "anglesToFit = []\n",
    "errorsToFit = []\n",
    "fitindex = 0\n",
    "\n",
    "for i in range(len(peaktxts)):\n",
    "    energyGV = int(''.join(filter(str.isdigit, peaktxts[i])))\n",
    "    energies.append(energyGV)\n",
    "    adress = \"peaks/\" + peaktxts[i]\n",
    "    data = np.transpose(np.loadtxt(adress,skiprows=1))\n",
    "    thetas.append(data[0])\n",
    "    peakpos.append(data[1])\n",
    "    fittingGV = []\n",
    "    fittingTheta = []\n",
    "    fittingError = []\n",
    "    distance = 0.015*energyGV\n",
    "    for k in range(len(data[1])):\n",
    "        theta = data[0][k]\n",
    "        energyScatter = data[1][k]\n",
    "        energyError = data[2][k]\n",
    "        if(np.abs(energyScatter - Tb(theta/360*2*np.pi,energyGV)) <= distance):\n",
    "            fittingGV.append(energyScatter)\n",
    "            fittingTheta.append(theta)\n",
    "            fittingError.append(energyError)\n",
    "    pointsToFit.append(fittingGV)\n",
    "    anglesToFit.append(fittingTheta)\n",
    "    errorsToFit.append(fittingError)"
   ]
  },
  {
   "cell_type": "code",
   "execution_count": 8,
   "id": "038ad88b",
   "metadata": {},
   "outputs": [
    {
     "data": {
      "text/plain": [
       "Text(0.5, 1.0, 'Energy: 2001 keV')"
      ]
     },
     "execution_count": 8,
     "metadata": {},
     "output_type": "execute_result"
    },
    {
     "data": {
      "image/png": "[encoded data removed]",
      "text/plain": [
       "<Figure size 640x480 with 1 Axes>"
      ]
     },
     "metadata": {
      "needs_background": "light"
     },
     "output_type": "display_data"
    }
   ],
   "source": [
    "i = 1\n",
    "plt.figure(figsize=(8, 6), dpi=80)\n",
    "plt.plot(thetas[i],peakpos[i], '.', alpha=1)\n",
    "#plt.plot(vinkler,2000*np.array(factors))\n",
    "plt.plot(vinkler,Tb(vinkler/360*2*np.pi,energies[i]))\n",
    "plt.plot(anglesToFit[i],pointsToFit[i], '.')\n",
    "plt.ylim(energies[i]-1000,energies[i])\n",
    "plt.title('Energy: ' + str(energies[i]) + ' keV')"
   ]
  },
  {
   "cell_type": "code",
   "execution_count": 9,
   "id": "a476240e",
   "metadata": {},
   "outputs": [],
   "source": [
    "gvE = []\n",
    "mE = []\n",
    "mEerr = []\n",
    "\n",
    "for i in range(len(energies)):\n",
    "    popt, pcov = curve_fit(Tb,2*np.pi/360*np.array(anglesToFit[i]),pointsToFit[i],energies[i], sigma=errorsToFit[i],absolute_sigma=True)\n",
    "    gvE.append(energies[i]/1.17)\n",
    "    mE.append(popt[0])\n",
    "    mEerr.append(np.sqrt(pcov[0][0]))"
   ]
  },
  {
   "cell_type": "code",
   "execution_count": 10,
   "id": "5702a8a4",
   "metadata": {},
   "outputs": [
    {
     "data": {
      "text/plain": [
       "[[0.163591,\n",
       "  0.091322,\n",
       "  0.692468,\n",
       "  0.110777,\n",
       "  0.102713,\n",
       "  0.17993,\n",
       "  0.088396,\n",
       "  0.097828,\n",
       "  0.0928,\n",
       "  0.152912,\n",
       "  0.090256,\n",
       "  0.12332,\n",
       "  0.135356,\n",
       "  0.12781,\n",
       "  0.086422,\n",
       "  0.250913,\n",
       "  0.320976,\n",
       "  0.129394,\n",
       "  0.109873,\n",
       "  0.087998,\n",
       "  0.096547,\n",
       "  0.109318,\n",
       "  0.085637,\n",
       "  0.167151,\n",
       "  0.113613,\n",
       "  0.094393,\n",
       "  0.172441,\n",
       "  0.180463,\n",
       "  0.088951,\n",
       "  0.102643,\n",
       "  0.210867,\n",
       "  0.122808,\n",
       "  0.124156,\n",
       "  0.10698,\n",
       "  0.107777,\n",
       "  0.097887,\n",
       "  0.110629,\n",
       "  0.106183,\n",
       "  0.113908,\n",
       "  0.10244,\n",
       "  0.397353,\n",
       "  0.112057,\n",
       "  0.140938,\n",
       "  0.090605,\n",
       "  0.399714,\n",
       "  426.049351,\n",
       "  0.155503,\n",
       "  0.107126,\n",
       "  0.364026,\n",
       "  0.165005,\n",
       "  0.132877,\n",
       "  0.183087,\n",
       "  0.118419,\n",
       "  0.142958,\n",
       "  0.169571,\n",
       "  0.106546,\n",
       "  0.147965,\n",
       "  0.096698,\n",
       "  0.126288,\n",
       "  0.100516,\n",
       "  0.139048,\n",
       "  0.103377,\n",
       "  0.212203,\n",
       "  0.36485,\n",
       "  0.591424,\n",
       "  0.140367,\n",
       "  0.121877,\n",
       "  0.126906,\n",
       "  0.12304,\n",
       "  0.120025,\n",
       "  0.091172,\n",
       "  0.157156,\n",
       "  0.117227,\n",
       "  0.110939,\n",
       "  0.10202,\n",
       "  0.161506,\n",
       "  0.305677,\n",
       "  0.128371,\n",
       "  0.169015,\n",
       "  0.328063,\n",
       "  0.333623,\n",
       "  0.125271,\n",
       "  0.134826,\n",
       "  0.52905,\n",
       "  1.087632,\n",
       "  0.254176,\n",
       "  0.338912,\n",
       "  0.12921,\n",
       "  0.201318,\n",
       "  0.282233,\n",
       "  0.194137,\n",
       "  0.133835,\n",
       "  0.120333,\n",
       "  0.192115,\n",
       "  0.112831,\n",
       "  0.121581,\n",
       "  0.121741,\n",
       "  0.117525,\n",
       "  0.164064,\n",
       "  0.158046,\n",
       "  0.142361,\n",
       "  0.359058,\n",
       "  0.390413,\n",
       "  0.134971,\n",
       "  0.129546,\n",
       "  0.137004,\n",
       "  0.326281,\n",
       "  0.541302,\n",
       "  0.131237,\n",
       "  0.14889,\n",
       "  0.85427,\n",
       "  0.194624,\n",
       "  0.188982,\n",
       "  0.146795,\n",
       "  0.304771,\n",
       "  0.266212,\n",
       "  0.192362,\n",
       "  5.492553,\n",
       "  16.800125,\n",
       "  0.673476,\n",
       "  0.170259,\n",
       "  0.182827,\n",
       "  0.343416,\n",
       "  0.297198,\n",
       "  0.298967,\n",
       "  0.369601,\n",
       "  0.535096],\n",
       " [0.104884,\n",
       "  0.099667,\n",
       "  0.091157,\n",
       "  0.088601,\n",
       "  0.092885,\n",
       "  0.090245,\n",
       "  0.094839,\n",
       "  0.103873,\n",
       "  0.107756,\n",
       "  0.106485,\n",
       "  0.122231,\n",
       "  0.290157,\n",
       "  0.10608,\n",
       "  0.104679,\n",
       "  0.103317,\n",
       "  0.110345,\n",
       "  0.328095,\n",
       "  0.121132,\n",
       "  0.095199,\n",
       "  0.156417,\n",
       "  0.14432,\n",
       "  0.120909,\n",
       "  0.122998,\n",
       "  0.090295,\n",
       "  0.147413,\n",
       "  0.105088,\n",
       "  0.114541,\n",
       "  0.10287,\n",
       "  0.168365,\n",
       "  0.104242,\n",
       "  0.102781,\n",
       "  0.115399,\n",
       "  0.15285,\n",
       "  0.116007,\n",
       "  0.105288,\n",
       "  0.181575,\n",
       "  0.088775,\n",
       "  0.208118,\n",
       "  0.130925,\n",
       "  0.11765,\n",
       "  0.108197,\n",
       "  0.12719,\n",
       "  0.107851,\n",
       "  0.31908,\n",
       "  0.122891,\n",
       "  0.141753,\n",
       "  0.087179,\n",
       "  0.221868,\n",
       "  0.103998,\n",
       "  0.106915,\n",
       "  0.115799,\n",
       "  0.205657,\n",
       "  0.300678,\n",
       "  0.283129,\n",
       "  0.114075,\n",
       "  0.261451,\n",
       "  0.113478,\n",
       "  0.159634,\n",
       "  0.220722,\n",
       "  0.111251,\n",
       "  0.139049,\n",
       "  0.717458,\n",
       "  0.22851,\n",
       "  0.168248,\n",
       "  0.133409,\n",
       "  0.102679,\n",
       "  0.12734,\n",
       "  0.122205,\n",
       "  0.223048,\n",
       "  0.101221,\n",
       "  0.153851,\n",
       "  0.144091,\n",
       "  0.207171,\n",
       "  0.128142,\n",
       "  0.243266,\n",
       "  0.162361,\n",
       "  0.223667,\n",
       "  0.138518,\n",
       "  0.142885,\n",
       "  0.169717,\n",
       "  0.230653,\n",
       "  0.183857,\n",
       "  0.216596,\n",
       "  0.251742,\n",
       "  0.1533,\n",
       "  2.449055,\n",
       "  0.140407,\n",
       "  0.186325,\n",
       "  21201.032295,\n",
       "  0.242854,\n",
       "  0.183931,\n",
       "  0.237247,\n",
       "  0.274465,\n",
       "  0.16697,\n",
       "  0.326263,\n",
       "  0.166362,\n",
       "  0.12829,\n",
       "  0.243129,\n",
       "  0.181605,\n",
       "  0.182379,\n",
       "  0.292549,\n",
       "  0.247007,\n",
       "  0.304266,\n",
       "  0.129426,\n",
       "  0.1717,\n",
       "  0.544636,\n",
       "  0.571715,\n",
       "  0.306162,\n",
       "  0.310436,\n",
       "  0.272419,\n",
       "  72401117.06896,\n",
       "  0.834664,\n",
       "  0.621326,\n",
       "  0.788442,\n",
       "  1.543139,\n",
       "  0.398212,\n",
       "  0.783036],\n",
       " [0.089621,\n",
       "  0.178871,\n",
       "  0.19552,\n",
       "  0.133227,\n",
       "  0.117948,\n",
       "  0.115277,\n",
       "  0.098001,\n",
       "  0.123841,\n",
       "  0.129068,\n",
       "  0.156731,\n",
       "  0.137881,\n",
       "  0.317012,\n",
       "  0.115071,\n",
       "  0.122739,\n",
       "  0.374559,\n",
       "  0.336637,\n",
       "  0.136243,\n",
       "  0.144414,\n",
       "  0.094738,\n",
       "  0.174308,\n",
       "  0.10343,\n",
       "  0.089555,\n",
       "  0.138705,\n",
       "  0.103947,\n",
       "  0.26451,\n",
       "  0.085244,\n",
       "  0.116506,\n",
       "  0.103392,\n",
       "  0.088329,\n",
       "  0.116527,\n",
       "  0.099494,\n",
       "  0.10833,\n",
       "  0.099452,\n",
       "  0.171232,\n",
       "  0.120588,\n",
       "  0.12946,\n",
       "  0.146786,\n",
       "  0.144127,\n",
       "  0.129232,\n",
       "  0.140268,\n",
       "  0.153697,\n",
       "  0.12829,\n",
       "  0.179124,\n",
       "  0.087744,\n",
       "  0.342335,\n",
       "  0.317357,\n",
       "  0.216783,\n",
       "  0.128557,\n",
       "  0.092625,\n",
       "  0.113759,\n",
       "  0.143289,\n",
       "  0.128012,\n",
       "  0.117137,\n",
       "  0.267969,\n",
       "  0.232684,\n",
       "  0.196293,\n",
       "  0.139545,\n",
       "  0.140159,\n",
       "  0.121575,\n",
       "  0.142992,\n",
       "  0.166488,\n",
       "  0.171835,\n",
       "  0.137501,\n",
       "  0.164791,\n",
       "  0.134509,\n",
       "  0.163896,\n",
       "  0.176669,\n",
       "  0.138258,\n",
       "  0.444751,\n",
       "  0.096923,\n",
       "  0.168442,\n",
       "  0.136079,\n",
       "  0.139657,\n",
       "  0.177206,\n",
       "  0.310875,\n",
       "  0.302577,\n",
       "  0.113858,\n",
       "  0.181914,\n",
       "  0.148479,\n",
       "  0.497053,\n",
       "  0.107933,\n",
       "  0.138091,\n",
       "  0.17394,\n",
       "  0.158153,\n",
       "  0.179784,\n",
       "  0.180436,\n",
       "  0.137889,\n",
       "  0.422224,\n",
       "  0.136194,\n",
       "  0.151377,\n",
       "  0.143576,\n",
       "  0.181454,\n",
       "  0.272579,\n",
       "  0.223799,\n",
       "  0.196221,\n",
       "  0.230067,\n",
       "  0.218707,\n",
       "  0.171498,\n",
       "  0.220632,\n",
       "  0.242578,\n",
       "  0.227117,\n",
       "  0.782261,\n",
       "  0.432161,\n",
       "  1.694118,\n",
       "  0.143179,\n",
       "  0.361026,\n",
       "  0.203962,\n",
       "  0.726418,\n",
       "  0.307299,\n",
       "  0.453644,\n",
       "  0.149442,\n",
       "  1.167547,\n",
       "  0.93593,\n",
       "  0.569863,\n",
       "  5.610191,\n",
       "  0.350828,\n",
       "  0.716875,\n",
       "  7.252045,\n",
       "  1.017941]]"
      ]
     },
     "execution_count": 10,
     "metadata": {},
     "output_type": "execute_result"
    }
   ],
   "source": [
    "errorsToFit"
   ]
  },
  {
   "cell_type": "code",
   "execution_count": 11,
   "id": "70915a6a",
   "metadata": {},
   "outputs": [],
   "source": [
    "def l(x,a):\n",
    "    return a*x\n",
    "\n",
    "popt,pcov = curve_fit(l,gvE,mE,sigma=mEerr,absolute_sigma = True)"
   ]
  },
  {
   "cell_type": "code",
   "execution_count": 12,
   "id": "3b17b465",
   "metadata": {},
   "outputs": [
    {
     "data": {
      "text/plain": [
       "<matplotlib.legend.Legend at 0x7f8bd12e8d00>"
      ]
     },
     "execution_count": 12,
     "metadata": {},
     "output_type": "execute_result"
    },
    {
     "data": {
      "image/png": "[encoded data removed]",
      "text/plain": [
       "<Figure size 576x576 with 1 Axes>"
      ]
     },
     "metadata": {
      "needs_background": "light"
     },
     "output_type": "display_data"
    }
   ],
   "source": [
    "gvElinspace = np.linspace(1500,2700,1000)\n",
    "fig, ax = plt.subplots(figsize = [8,8])\n",
    "ax.errorbar(gvE,mE,yerr=mEerr,fmt='.',capsize=3, label = 'Data')\n",
    "ax.plot(gvElinspace,l(gvElinspace,*popt), label = r'y = a $\\cdot$ x with a=' + str(np.round(popt[0],4)))# + \", b=\" + str(np.round(popt[1],4)))\n",
    "ax.set_xlabel('GV energy [keV]')\n",
    "ax.set_ylabel('Fitted accelerator energy [keV]')\n",
    "ax.legend()"
   ]
  },
  {
   "cell_type": "code",
   "execution_count": 13,
   "id": "3d9a1288",
   "metadata": {},
   "outputs": [
    {
     "data": {
      "text/plain": [
       "1.1648521805579366"
      ]
     },
     "execution_count": 13,
     "metadata": {},
     "output_type": "execute_result"
    }
   ],
   "source": [
    "popt[0]"
   ]
  },
  {
   "cell_type": "code",
   "execution_count": 14,
   "id": "d95ac038",
   "metadata": {},
   "outputs": [
    {
     "data": {
      "text/plain": [
       "array([[3.87843419e-06]])"
      ]
     },
     "execution_count": 14,
     "metadata": {},
     "output_type": "execute_result"
    }
   ],
   "source": [
    "np.sqrt(pcov)"
   ]
  },
  {
   "cell_type": "code",
   "execution_count": 15,
   "id": "162de311",
   "metadata": {},
   "outputs": [
    {
     "data": {
      "text/plain": [
       "Text(0.5, 1.0, 'Energy: 2500 keV')"
      ]
     },
     "execution_count": 15,
     "metadata": {},
     "output_type": "execute_result"
    },
    {
     "data": {
      "image/png": "[encoded data removed]",
      "text/plain": [
       "<Figure size 640x480 with 1 Axes>"
      ]
     },
     "metadata": {
      "needs_background": "light"
     },
     "output_type": "display_data"
    }
   ],
   "source": [
    "i = 0\n",
    "plt.figure(figsize=(8, 6), dpi=80)\n",
    "plt.plot(thetas[i],peakpos[i], '.', alpha=1)\n",
    "#plt.plot(vinkler,2000*np.array(factors))\n",
    "plt.plot(anglesToFit[i],pointsToFit[i], '.')\n",
    "plt.ylim(energies[i]-1000,energies[i])\n",
    "plt.plot(vinkler,Tb(vinkler/360*2*np.pi,mE[i]))\n",
    "plt.title('Energy: ' + str(energies[i]) + ' keV')"
   ]
  },
  {
   "cell_type": "code",
   "execution_count": 16,
   "id": "4fb7d150",
   "metadata": {},
   "outputs": [
    {
     "name": "stdout",
     "output_type": "stream",
     "text": [
      "1992.3560439680343\n"
     ]
    },
    {
     "data": {
      "image/png": "[encoded data removed]",
      "text/plain": [
       "<Figure size 640x480 with 1 Axes>"
      ]
     },
     "metadata": {
      "needs_background": "light"
     },
     "output_type": "display_data"
    }
   ],
   "source": [
    "i = 1\n",
    "plt.figure(figsize=(8, 6), dpi=80)\n",
    "plt.plot(thetas[i],peakpos[i], '.', alpha=1)\n",
    "#plt.plot(vinkler,2000*np.array(factors))\n",
    "plt.plot(vinkler,Tb(vinkler/360*2*np.pi,mE[i]))\n",
    "plt.plot(anglesToFit[i],pointsToFit[i], '.')\n",
    "plt.ylim(energies[i]-1000,energies[i])\n",
    "plt.title('Energy: ' + str(energies[i]) + ' keV')\n",
    "print(mE[i])"
   ]
  },
  {
   "cell_type": "code",
   "execution_count": 17,
   "id": "b48052b2",
   "metadata": {},
   "outputs": [
    {
     "data": {
      "text/plain": [
       "Text(0.5, 1.0, 'Energy: 3000 keV')"
      ]
     },
     "execution_count": 17,
     "metadata": {},
     "output_type": "execute_result"
    },
    {
     "data": {
      "image/png": "[encoded data removed]",
      "text/plain": [
       "<Figure size 640x480 with 1 Axes>"
      ]
     },
     "metadata": {
      "needs_background": "light"
     },
     "output_type": "display_data"
    }
   ],
   "source": [
    "i = 2\n",
    "plt.figure(figsize=(8, 6), dpi=80)\n",
    "plt.plot(thetas[i],peakpos[i], '.', alpha=1)\n",
    "#plt.plot(vinkler,2000*np.array(factors))\n",
    "plt.plot(vinkler,Tb(vinkler/360*2*np.pi,mE[i]))\n",
    "plt.plot(anglesToFit[i],pointsToFit[i], '.')\n",
    "plt.ylim(energies[i]-1000,energies[i])\n",
    "plt.title('Energy: ' + str(energies[i]) + ' keV')"
   ]
  },
  {
   "cell_type": "code",
   "execution_count": 18,
   "id": "d16b5be5",
   "metadata": {},
   "outputs": [
    {
     "data": {
      "text/plain": [
       "[2493.1753466563036, 1992.3560439680343, 2982.3377058742867]"
      ]
     },
     "execution_count": 18,
     "metadata": {},
     "output_type": "execute_result"
    }
   ],
   "source": [
    "mE"
   ]
  },
  {
   "cell_type": "code",
   "execution_count": null,
   "id": "f9d406a7",
   "metadata": {},
   "outputs": [],
   "source": []
  }
 ],
 "metadata": {
  "kernelspec": {
   "display_name": "Python 3 (ipykernel)",
   "language": "python",
   "name": "python3"
  },
  "language_info": {
   "codemirror_mode": {
    "name": "ipython",
    "version": 3
   },
   "file_extension": ".py",
   "mimetype": "text/x-python",
   "name": "python",
   "nbconvert_exporter": "python",
   "pygments_lexer": "ipython3",
   "version": "3.9.7"
  }
 },
 "nbformat": 4,
 "nbformat_minor": 5
}
