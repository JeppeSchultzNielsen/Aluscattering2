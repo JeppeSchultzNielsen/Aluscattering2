{
 "cells": [
  {
   "cell_type": "code",
   "execution_count": 1,
   "id": "9da117ad",
   "metadata": {},
   "outputs": [],
   "source": [
    "from os import listdir\n",
    "from os.path import isfile, join\n",
    "import re\n",
    "import numpy as np\n",
    "import matplotlib.pyplot as plt\n",
    "from scipy.optimize import curve_fit\n",
    "import math as math\n",
    "from scipy.optimize import minimize\n",
    "import scipy.stats as ss\n",
    "from scipy.signal import find_peaks \n",
    "from matplotlib import rc\n",
    "import codecs\n",
    "\n",
    "SMALL_SIZE = 14\n",
    "MEDIUM_SIZE = 16\n",
    "BIGGER_SIZE = 20\n",
    "\n",
    "plt.rc('text', usetex=True)\n",
    "plt.rc('font', family='serif')\n",
    "plt.rc('font', size=SMALL_SIZE)          # controls default text sizes\n",
    "plt.rc('axes', titlesize=BIGGER_SIZE)     # fontsize of the axes title\n",
    "plt.rc('axes', labelsize=MEDIUM_SIZE)    # fontsize of the x and y labels\n",
    "plt.rc('xtick', labelsize=SMALL_SIZE)    # fontsize of the tick labels\n",
    "plt.rc('ytick', labelsize=SMALL_SIZE)    # fontsize of the tick labels\n",
    "plt.rc('legend', fontsize=SMALL_SIZE)    # legend fontsize\n",
    "plt.rc('figure', titlesize=BIGGER_SIZE)  # fontsize of the figure title\n",
    "\n",
    "#en figur der fylder en kolonne har bredde 5,8, f.eks: fig, ax= plt.subplots(figsize=(5.8,4))\n",
    "#en figur der fylder to kolonner har dobbeltbredde??"
   ]
  },
  {
   "cell_type": "code",
   "execution_count": 2,
   "id": "83ecc364",
   "metadata": {},
   "outputs": [],
   "source": [
    "#til at slå op i masses.dat\n",
    "data = np.transpose(np.loadtxt(\"masses.txt\"))\n",
    "\n",
    "N=data[0]\n",
    "Z=data[1]\n",
    "A=data[2]\n",
    "massExcess=data[3]\n",
    "bEPrNkl=data[4]\n",
    "\n",
    "mp = 938.272\n",
    "me = 0.510998\n",
    "mn = 939.565\n",
    "\n",
    "def me2(a, z):\n",
    "    a_indices = np.where(A == a)\n",
    "    z_indices = np.where(Z == z)\n",
    "    a = lambda: print('Could not find mass excess for given numbers')\n",
    "    for i in range(len(a_indices[0])):\n",
    "        if np.any(z_indices[0] == a_indices[0][i]):\n",
    "            me = massExcess[a_indices[0][i]]/1000\n",
    "            a = lambda: me\n",
    "    return a()\n",
    "\n",
    "def m2(a,z): \n",
    "    return a*931.49410242+me2(a,z)"
   ]
  },
  {
   "cell_type": "code",
   "execution_count": 3,
   "id": "20de12df",
   "metadata": {},
   "outputs": [],
   "source": [
    "def factor(m1, m2, t): #t er lab scatteringvinkel i radianer.\n",
    "    mr = m1*m2/(m1+m2)\n",
    "    \n",
    "    def toSolve(x):\n",
    "        return 1/np.tan(x)+m1/m2*1/np.sin(x)-1/np.tan(t)\n",
    "    \n",
    "    vinkelCOM = fsolve(toSolve,t) #brug t som startgæt til fsolve\n",
    "    \n",
    "    return mr**2*(1/m1**2+1/m2**2+2/(m1*m2)*np.cos(vinkelCOM))"
   ]
  },
  {
   "cell_type": "code",
   "execution_count": 4,
   "id": "ad3dd4fd",
   "metadata": {},
   "outputs": [],
   "source": [
    "#beregn Tb ud fra 11.5 i Krane\n",
    "def Tb(t,Ta):\n",
    "    mY=m2(27,13)\n",
    "    ma=mp\n",
    "    mb=mp\n",
    "    return np.power((np.sqrt(ma*mb*Ta)*np.cos(t)+np.sqrt((ma*mb*Ta*np.cos(t)**2+(mY+mb)*(mY-ma)*Ta)))/(mY+mb),2)"
   ]
  },
  {
   "cell_type": "code",
   "execution_count": 5,
   "id": "1de163d2",
   "metadata": {},
   "outputs": [],
   "source": [
    "vinkler = np.linspace(0,180,1000)\n",
    "factors = []\n",
    "\n",
    "mypath = \"peaks\"\n",
    "peaktxts = [f for f in listdir(mypath) if isfile(join(mypath, f))]"
   ]
  },
  {
   "cell_type": "code",
   "execution_count": null,
   "id": "625d54cc",
   "metadata": {},
   "outputs": [],
   "source": []
  },
  {
   "cell_type": "code",
   "execution_count": 6,
   "id": "538bc3ba",
   "metadata": {},
   "outputs": [],
   "source": [
    "thetas = []\n",
    "peakpos = []\n",
    "energies = []\n",
    "pointsToFit = []\n",
    "anglesToFit = []\n",
    "errorsToFit = []\n",
    "fitindex = 0\n",
    "\n",
    "for i in range(len(peaktxts)):\n",
    "    energyGV = int(''.join(filter(str.isdigit, peaktxts[i])))\n",
    "    energies.append(energyGV)\n",
    "    adress = \"peaks/\" + peaktxts[i]\n",
    "    data = np.transpose(np.loadtxt(adress,skiprows=1))\n",
    "    thetas.append(data[0])\n",
    "    peakpos.append(data[1])\n",
    "    fittingGV = []\n",
    "    fittingTheta = []\n",
    "    fittingError = []\n",
    "    distance = 0.015*energyGV\n",
    "    for k in range(len(data[1])):\n",
    "        theta = data[0][k]\n",
    "        energyScatter = data[1][k]\n",
    "        energyError = data[2][k]\n",
    "        if(np.abs(energyScatter - Tb(theta/360*2*np.pi,energyGV)) <= distance):\n",
    "            fittingGV.append(energyScatter)\n",
    "            fittingTheta.append(theta)\n",
    "            fittingError.append(energyError)\n",
    "    pointsToFit.append(fittingGV)\n",
    "    anglesToFit.append(fittingTheta)\n",
    "    errorsToFit.append(fittingError)"
   ]
  },
  {
   "cell_type": "code",
   "execution_count": 7,
   "id": "038ad88b",
   "metadata": {},
   "outputs": [
    {
     "data": {
      "text/plain": [
       "Text(0.5, 1.0, 'Energy: 2001 keV')"
      ]
     },
     "execution_count": 7,
     "metadata": {},
     "output_type": "execute_result"
    },
    {
     "data": {
      "image/png": "[encoded data removed]",
      "text/plain": [
       "<Figure size 640x480 with 1 Axes>"
      ]
     },
     "metadata": {
      "needs_background": "light"
     },
     "output_type": "display_data"
    }
   ],
   "source": [
    "i = 1\n",
    "plt.figure(figsize=(8, 6), dpi=80)\n",
    "plt.plot(thetas[i],peakpos[i], '.', alpha=1)\n",
    "#plt.plot(vinkler,2000*np.array(factors))\n",
    "plt.plot(vinkler,Tb(vinkler/360*2*np.pi,energies[i]))\n",
    "plt.plot(anglesToFit[i],pointsToFit[i], '.')\n",
    "plt.ylim(energies[i]-1000,energies[i])\n",
    "plt.title('Energy: ' + str(energies[i]) + ' keV')"
   ]
  },
  {
   "cell_type": "code",
   "execution_count": 8,
   "id": "a476240e",
   "metadata": {},
   "outputs": [],
   "source": [
    "gvE = []\n",
    "mE = []\n",
    "mEerr = []\n",
    "\n",
    "for i in range(len(energies)):\n",
    "    popt, pcov = curve_fit(Tb,2*np.pi/360*np.array(anglesToFit[i]),pointsToFit[i],energies[i], sigma=errorsToFit[i],absolute_sigma=True)\n",
    "    gvE.append(energies[i]/1.17)\n",
    "    mE.append(popt[0])\n",
    "    mEerr.append(np.sqrt(pcov[0][0]))"
   ]
  },
  {
   "cell_type": "code",
   "execution_count": 9,
   "id": "5702a8a4",
   "metadata": {},
   "outputs": [
    {
     "data": {
      "text/plain": [
       "[[0.384497,\n",
       "  2.213754,\n",
       "  0.119144,\n",
       "  0.155834,\n",
       "  1.060872,\n",
       "  0.148668,\n",
       "  0.264424,\n",
       "  0.123765,\n",
       "  0.127765,\n",
       "  1.113556,\n",
       "  0.151633,\n",
       "  0.137744,\n",
       "  0.157364,\n",
       "  0.221081,\n",
       "  0.113656,\n",
       "  0.187544,\n",
       "  0.112819,\n",
       "  0.114509,\n",
       "  0.58104,\n",
       "  0.128718,\n",
       "  0.147247,\n",
       "  0.116081,\n",
       "  0.137732,\n",
       "  0.145184,\n",
       "  0.228976,\n",
       "  0.156014,\n",
       "  0.146893,\n",
       "  0.181863,\n",
       "  0.117324,\n",
       "  0.149366,\n",
       "  0.399886,\n",
       "  2.48384,\n",
       "  0.147877,\n",
       "  0.871259,\n",
       "  0.127877,\n",
       "  0.121212,\n",
       "  0.135106,\n",
       "  0.755741,\n",
       "  0.100366,\n",
       "  0.299706,\n",
       "  0.16985,\n",
       "  0.116746,\n",
       "  0.134628,\n",
       "  0.217275,\n",
       "  0.136681,\n",
       "  0.140052,\n",
       "  0.14672,\n",
       "  0.424438,\n",
       "  2.038445,\n",
       "  0.676716,\n",
       "  0.152314,\n",
       "  0.178675,\n",
       "  0.116805,\n",
       "  0.419373,\n",
       "  0.14612,\n",
       "  0.159619,\n",
       "  0.202195,\n",
       "  0.167511,\n",
       "  0.17514,\n",
       "  0.127986,\n",
       "  0.163276,\n",
       "  0.23106,\n",
       "  0.226085,\n",
       "  0.156691,\n",
       "  0.515092,\n",
       "  0.141906,\n",
       "  0.196493,\n",
       "  0.190291,\n",
       "  0.143875,\n",
       "  0.118255,\n",
       "  0.19979,\n",
       "  0.14518,\n",
       "  0.14847,\n",
       "  0.177756,\n",
       "  0.168679,\n",
       "  0.234892,\n",
       "  0.270296,\n",
       "  0.323685,\n",
       "  0.173817,\n",
       "  0.150901,\n",
       "  0.154569,\n",
       "  0.165004,\n",
       "  0.230211,\n",
       "  0.235068,\n",
       "  0.176336,\n",
       "  0.196546,\n",
       "  0.309153,\n",
       "  0.151002,\n",
       "  0.13961,\n",
       "  0.13022,\n",
       "  0.242684,\n",
       "  0.144515,\n",
       "  0.86289,\n",
       "  0.185768,\n",
       "  0.189431,\n",
       "  0.226744,\n",
       "  0.169488,\n",
       "  0.133819,\n",
       "  0.138833,\n",
       "  0.213526,\n",
       "  0.631513,\n",
       "  2.303191,\n",
       "  0.152578,\n",
       "  0.203067,\n",
       "  0.240642,\n",
       "  0.169501,\n",
       "  0.220046,\n",
       "  0.161845,\n",
       "  0.211707,\n",
       "  19.169892,\n",
       "  79638.94284,\n",
       "  0.691275,\n",
       "  0.57336,\n",
       "  0.194654,\n",
       "  5982.232884,\n",
       "  0.83661,\n",
       "  0.256448,\n",
       "  1.041409,\n",
       "  0.477139,\n",
       "  0.89713,\n",
       "  0.667785,\n",
       "  6066120.864633,\n",
       "  0.675631,\n",
       "  391660.277147],\n",
       " [0.160538,\n",
       "  0.119519,\n",
       "  0.593302,\n",
       "  0.118947,\n",
       "  0.120419,\n",
       "  0.121673,\n",
       "  0.118058,\n",
       "  0.101374,\n",
       "  0.146796,\n",
       "  0.106774,\n",
       "  0.156119,\n",
       "  0.156121,\n",
       "  0.43721,\n",
       "  0.199839,\n",
       "  0.14267,\n",
       "  0.160903,\n",
       "  0.221356,\n",
       "  0.19645,\n",
       "  0.130984,\n",
       "  0.235799,\n",
       "  0.12352,\n",
       "  0.150125,\n",
       "  0.154892,\n",
       "  0.109476,\n",
       "  0.174899,\n",
       "  0.141344,\n",
       "  0.155847,\n",
       "  0.148442,\n",
       "  0.13463,\n",
       "  0.237756,\n",
       "  0.128271,\n",
       "  0.144068,\n",
       "  0.139999,\n",
       "  0.155011,\n",
       "  0.139487,\n",
       "  0.165953,\n",
       "  0.247725,\n",
       "  0.150465,\n",
       "  0.56607,\n",
       "  0.146249,\n",
       "  0.155104,\n",
       "  0.155294,\n",
       "  0.162572,\n",
       "  0.150581,\n",
       "  0.151572,\n",
       "  0.21802,\n",
       "  0.150623,\n",
       "  0.209482,\n",
       "  0.209326,\n",
       "  0.143702,\n",
       "  0.122267,\n",
       "  0.172767,\n",
       "  0.130989,\n",
       "  0.289792,\n",
       "  0.193635,\n",
       "  0.194573,\n",
       "  0.21031,\n",
       "  0.201756,\n",
       "  0.195602,\n",
       "  0.366798,\n",
       "  0.18846,\n",
       "  0.236349,\n",
       "  0.212353,\n",
       "  0.383339,\n",
       "  0.224883,\n",
       "  0.273287,\n",
       "  0.178827,\n",
       "  0.136881,\n",
       "  0.23659,\n",
       "  0.279894,\n",
       "  0.177335,\n",
       "  0.300217,\n",
       "  0.218085,\n",
       "  0.125319,\n",
       "  0.209603,\n",
       "  0.130676,\n",
       "  0.292061,\n",
       "  0.145162,\n",
       "  0.198504,\n",
       "  0.201452,\n",
       "  0.668328,\n",
       "  0.333171,\n",
       "  0.198687,\n",
       "  0.150321,\n",
       "  0.25347,\n",
       "  181431.835484,\n",
       "  0.231783,\n",
       "  65156.596684,\n",
       "  0.212638,\n",
       "  0.301442,\n",
       "  0.799624,\n",
       "  0.199751,\n",
       "  0.451165,\n",
       "  0.186317,\n",
       "  178963.021251,\n",
       "  0.282687,\n",
       "  0.32724,\n",
       "  0.800478,\n",
       "  0.448993,\n",
       "  0.260429,\n",
       "  0.607546,\n",
       "  0.176223,\n",
       "  0.332095,\n",
       "  0.215658,\n",
       "  0.526172,\n",
       "  1.194268,\n",
       "  0.527632,\n",
       "  0.226977,\n",
       "  0.522843,\n",
       "  1134567.28521,\n",
       "  0.366462,\n",
       "  0.611913,\n",
       "  0.635334,\n",
       "  2.729217,\n",
       "  0.674769],\n",
       " [0.151955,\n",
       "  0.218379,\n",
       "  0.270563,\n",
       "  0.799274,\n",
       "  0.180478,\n",
       "  0.160087,\n",
       "  0.19325,\n",
       "  0.428955,\n",
       "  0.872827,\n",
       "  0.12352,\n",
       "  0.166851,\n",
       "  0.127896,\n",
       "  0.166765,\n",
       "  0.185148,\n",
       "  0.16524,\n",
       "  0.253516,\n",
       "  0.200341,\n",
       "  0.168242,\n",
       "  0.349843,\n",
       "  0.608636,\n",
       "  0.162275,\n",
       "  0.20226,\n",
       "  0.123753,\n",
       "  0.656502,\n",
       "  2.605299,\n",
       "  0.211387,\n",
       "  0.133719,\n",
       "  0.174292,\n",
       "  0.153637,\n",
       "  0.118244,\n",
       "  0.12466,\n",
       "  0.129356,\n",
       "  0.126496,\n",
       "  0.116942,\n",
       "  0.13008,\n",
       "  0.223213,\n",
       "  0.210526,\n",
       "  0.223256,\n",
       "  0.178825,\n",
       "  0.203438,\n",
       "  0.159958,\n",
       "  0.172,\n",
       "  0.22567,\n",
       "  0.190255,\n",
       "  0.249796,\n",
       "  0.1243,\n",
       "  0.17288,\n",
       "  0.206879,\n",
       "  0.159646,\n",
       "  0.120403,\n",
       "  0.14671,\n",
       "  0.2763,\n",
       "  0.191938,\n",
       "  0.567208,\n",
       "  0.122244,\n",
       "  0.198603,\n",
       "  0.187223,\n",
       "  0.228269,\n",
       "  0.161834,\n",
       "  0.198507,\n",
       "  0.180929,\n",
       "  3.544925,\n",
       "  11.157961,\n",
       "  0.225993,\n",
       "  0.163025,\n",
       "  0.164963,\n",
       "  0.18914,\n",
       "  0.205468,\n",
       "  0.186493,\n",
       "  0.273881,\n",
       "  0.238588,\n",
       "  0.299726,\n",
       "  0.298762,\n",
       "  0.169504,\n",
       "  0.452514,\n",
       "  0.257448,\n",
       "  0.205982,\n",
       "  0.173742,\n",
       "  0.205102,\n",
       "  0.236664,\n",
       "  0.274709,\n",
       "  0.239284,\n",
       "  0.151706,\n",
       "  0.220012,\n",
       "  0.151368,\n",
       "  0.168753,\n",
       "  0.150033,\n",
       "  0.386042,\n",
       "  0.193074,\n",
       "  0.172595,\n",
       "  0.208357,\n",
       "  0.240446,\n",
       "  0.250085,\n",
       "  0.214012,\n",
       "  0.259839,\n",
       "  0.199912,\n",
       "  0.23095,\n",
       "  0.205646,\n",
       "  0.239682,\n",
       "  0.462781,\n",
       "  8991.710275,\n",
       "  0.287853,\n",
       "  0.309379,\n",
       "  0.368513,\n",
       "  0.460028,\n",
       "  0.206468,\n",
       "  0.234395,\n",
       "  0.344695,\n",
       "  0.350282,\n",
       "  0.280209,\n",
       "  0.745213,\n",
       "  0.508157,\n",
       "  0.460263,\n",
       "  0.316064,\n",
       "  0.567507,\n",
       "  58.994177,\n",
       "  0.339656,\n",
       "  0.94663,\n",
       "  1.311068,\n",
       "  2.095479]]"
      ]
     },
     "execution_count": 9,
     "metadata": {},
     "output_type": "execute_result"
    }
   ],
   "source": [
    "errorsToFit"
   ]
  },
  {
   "cell_type": "code",
   "execution_count": 10,
   "id": "70915a6a",
   "metadata": {},
   "outputs": [],
   "source": [
    "def l(x,a):\n",
    "    return a*x\n",
    "\n",
    "popt,pcov = curve_fit(l,gvE,mE,sigma=mEerr,absolute_sigma = True)"
   ]
  },
  {
   "cell_type": "code",
   "execution_count": 11,
   "id": "3b17b465",
   "metadata": {},
   "outputs": [
    {
     "data": {
      "text/plain": [
       "<matplotlib.legend.Legend at 0x7f7bc7d98a60>"
      ]
     },
     "execution_count": 11,
     "metadata": {},
     "output_type": "execute_result"
    },
    {
     "data": {
      "image/png": "[encoded data removed]",
      "text/plain": [
       "<Figure size 576x576 with 1 Axes>"
      ]
     },
     "metadata": {
      "needs_background": "light"
     },
     "output_type": "display_data"
    }
   ],
   "source": [
    "gvElinspace = np.linspace(1500,2700,1000)\n",
    "fig, ax = plt.subplots(figsize = [8,8])\n",
    "ax.errorbar(gvE,mE,yerr=mEerr,fmt='.',capsize=3, label = 'Data')\n",
    "ax.plot(gvElinspace,l(gvElinspace,*popt), label = r'y = a $\\cdot$ x with a=' + str(np.round(popt[0],4)))# + \", b=\" + str(np.round(popt[1],4)))\n",
    "ax.set_xlabel('GV energy [keV]')\n",
    "ax.set_ylabel('Fitted accelerator energy [keV]')\n",
    "ax.legend()"
   ]
  },
  {
   "cell_type": "code",
   "execution_count": 12,
   "id": "3d9a1288",
   "metadata": {},
   "outputs": [
    {
     "data": {
      "text/plain": [
       "1.169403874468221"
      ]
     },
     "execution_count": 12,
     "metadata": {},
     "output_type": "execute_result"
    }
   ],
   "source": [
    "popt[0]"
   ]
  },
  {
   "cell_type": "code",
   "execution_count": 13,
   "id": "d95ac038",
   "metadata": {},
   "outputs": [
    {
     "data": {
      "text/plain": [
       "array([[5.12672503e-06]])"
      ]
     },
     "execution_count": 13,
     "metadata": {},
     "output_type": "execute_result"
    }
   ],
   "source": [
    "np.sqrt(pcov)"
   ]
  },
  {
   "cell_type": "code",
   "execution_count": 14,
   "id": "162de311",
   "metadata": {},
   "outputs": [
    {
     "data": {
      "text/plain": [
       "Text(0.5, 1.0, 'Energy: 2500 keV')"
      ]
     },
     "execution_count": 14,
     "metadata": {},
     "output_type": "execute_result"
    },
    {
     "data": {
      "image/png": "[encoded data removed]",
      "text/plain": [
       "<Figure size 640x480 with 1 Axes>"
      ]
     },
     "metadata": {
      "needs_background": "light"
     },
     "output_type": "display_data"
    }
   ],
   "source": [
    "i = 0\n",
    "plt.figure(figsize=(8, 6), dpi=80)\n",
    "plt.plot(thetas[i],peakpos[i], '.', alpha=1)\n",
    "#plt.plot(vinkler,2000*np.array(factors))\n",
    "plt.plot(vinkler,Tb(vinkler/360*2*np.pi,mE[i]))\n",
    "plt.plot(anglesToFit[i],pointsToFit[i], '.')\n",
    "plt.ylim(energies[i]-1000,energies[i])\n",
    "plt.title('Energy: ' + str(energies[i]) + ' keV')"
   ]
  },
  {
   "cell_type": "code",
   "execution_count": 15,
   "id": "4fb7d150",
   "metadata": {},
   "outputs": [
    {
     "name": "stdout",
     "output_type": "stream",
     "text": [
      "1992.5996547208615\n"
     ]
    },
    {
     "data": {
      "image/png": "[encoded data removed]",
      "text/plain": [
       "<Figure size 640x480 with 1 Axes>"
      ]
     },
     "metadata": {
      "needs_background": "light"
     },
     "output_type": "display_data"
    }
   ],
   "source": [
    "i = 1\n",
    "plt.figure(figsize=(8, 6), dpi=80)\n",
    "plt.plot(thetas[i],peakpos[i], '.', alpha=1)\n",
    "#plt.plot(vinkler,2000*np.array(factors))\n",
    "plt.plot(vinkler,Tb(vinkler/360*2*np.pi,mE[i]))\n",
    "plt.plot(anglesToFit[i],pointsToFit[i], '.')\n",
    "plt.ylim(energies[i]-1000,energies[i])\n",
    "plt.title('Energy: ' + str(energies[i]) + ' keV')\n",
    "print(mE[i])"
   ]
  },
  {
   "cell_type": "code",
   "execution_count": 16,
   "id": "b48052b2",
   "metadata": {},
   "outputs": [
    {
     "data": {
      "text/plain": [
       "Text(0.5, 1.0, 'Energy: 3000 keV')"
      ]
     },
     "execution_count": 16,
     "metadata": {},
     "output_type": "execute_result"
    },
    {
     "data": {
      "image/png": "[encoded data removed]",
      "text/plain": [
       "<Figure size 640x480 with 1 Axes>"
      ]
     },
     "metadata": {
      "needs_background": "light"
     },
     "output_type": "display_data"
    }
   ],
   "source": [
    "i = 2\n",
    "plt.figure(figsize=(8, 6), dpi=80)\n",
    "plt.plot(thetas[i],peakpos[i], '.', alpha=1)\n",
    "#plt.plot(vinkler,2000*np.array(factors))\n",
    "plt.plot(vinkler,Tb(vinkler/360*2*np.pi,mE[i]))\n",
    "plt.plot(anglesToFit[i],pointsToFit[i], '.')\n",
    "plt.ylim(energies[i]-1000,energies[i])\n",
    "plt.title('Energy: ' + str(energies[i]) + ' keV')"
   ]
  },
  {
   "cell_type": "code",
   "execution_count": 17,
   "id": "d16b5be5",
   "metadata": {},
   "outputs": [
    {
     "data": {
      "text/plain": [
       "[2507.2347285835917, 1992.5996547208615, 2994.7814933683103]"
      ]
     },
     "execution_count": 17,
     "metadata": {},
     "output_type": "execute_result"
    }
   ],
   "source": [
    "mE"
   ]
  },
  {
   "cell_type": "code",
   "execution_count": null,
   "id": "f9d406a7",
   "metadata": {},
   "outputs": [],
   "source": []
  }
 ],
 "metadata": {
  "kernelspec": {
   "display_name": "Python 3 (ipykernel)",
   "language": "python",
   "name": "python3"
  },
  "language_info": {
   "codemirror_mode": {
    "name": "ipython",
    "version": 3
   },
   "file_extension": ".py",
   "mimetype": "text/x-python",
   "name": "python",
   "nbconvert_exporter": "python",
   "pygments_lexer": "ipython3",
   "version": "3.9.7"
  }
 },
 "nbformat": 4,
 "nbformat_minor": 5
}
