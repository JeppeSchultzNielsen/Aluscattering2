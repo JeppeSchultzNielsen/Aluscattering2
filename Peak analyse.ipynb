{
 "cells": [
  {
   "cell_type": "code",
   "execution_count": 1,
   "id": "9da117ad",
   "metadata": {},
   "outputs": [],
   "source": [
    "import matplotlib.pyplot as plt\n",
    "import numpy as np\n",
    "from scipy.optimize import fsolve\n",
    "from os import listdir\n",
    "from os.path import isfile, join\n",
    "import re"
   ]
  },
  {
   "cell_type": "code",
   "execution_count": 2,
   "id": "83ecc364",
   "metadata": {},
   "outputs": [],
   "source": [
    "#til at slå op i masses.dat\n",
    "data = np.transpose(np.loadtxt(\"masses.txt\"))\n",
    "\n",
    "N=data[0]\n",
    "Z=data[1]\n",
    "A=data[2]\n",
    "massExcess=data[3]\n",
    "bEPrNkl=data[4]\n",
    "\n",
    "mp = 938.272\n",
    "me = 0.510998\n",
    "mn = 939.565\n",
    "\n",
    "def me2(a, z):\n",
    "    a_indices = np.where(A == a)\n",
    "    z_indices = np.where(Z == z)\n",
    "    a = lambda: print('Could not find mass excess for given numbers')\n",
    "    for i in range(len(a_indices[0])):\n",
    "        if np.any(z_indices[0] == a_indices[0][i]):\n",
    "            me = massExcess[a_indices[0][i]]/1000\n",
    "            a = lambda: me\n",
    "    return a()\n",
    "\n",
    "def m2(a,z): \n",
    "    return a*931.49410242+me2(a,z)"
   ]
  },
  {
   "cell_type": "code",
   "execution_count": 3,
   "id": "20de12df",
   "metadata": {},
   "outputs": [],
   "source": [
    "def factor(m1, m2, t): #t er lab scatteringvinkel i radianer.\n",
    "    mr = m1*m2/(m1+m2)\n",
    "    \n",
    "    def toSolve(x):\n",
    "        return 1/np.tan(x)+m1/m2*1/np.sin(x)-1/np.tan(t)\n",
    "    \n",
    "    vinkelCOM = fsolve(toSolve,t) #brug t som startgæt til fsolve\n",
    "    \n",
    "    return mr**2*(1/m1**2+1/m2**2+2/(m1*m2)*np.cos(vinkelCOM))"
   ]
  },
  {
   "cell_type": "code",
   "execution_count": 4,
   "id": "ad3dd4fd",
   "metadata": {},
   "outputs": [],
   "source": [
    "#beregn Tb ud fra 11.5 i Krane\n",
    "def Tb(Ta,t):\n",
    "    mY=30\n",
    "    ma=1\n",
    "    mb=1\n",
    "    return np.power((np.sqrt(ma*mb*Ta)*np.cos(t)+np.sqrt((ma*mb*Ta*np.cos(t)**2+(mY+mb)*(mY-ma)*Ta)))/(mY+mb),2)"
   ]
  },
  {
   "cell_type": "code",
   "execution_count": 5,
   "id": "1de163d2",
   "metadata": {},
   "outputs": [],
   "source": [
    "vinkler = np.linspace(0,180,1000)\n",
    "factors = []\n",
    "\n",
    "mypath = \"peaks\"\n",
    "peaktxts = [f for f in listdir(mypath) if isfile(join(mypath, f))]"
   ]
  },
  {
   "cell_type": "code",
   "execution_count": 12,
   "id": "538bc3ba",
   "metadata": {},
   "outputs": [],
   "source": [
    "thetas = []\n",
    "peakpos = []\n",
    "energies = []\n",
    "\n",
    "for i in range(len(peaktxts)):\n",
    "    energies.append(int(''.join(filter(str.isdigit, peaktxts[i]))))\n",
    "    adress = \"peaks/\" + peaktxts[i]\n",
    "    data = np.transpose(np.loadtxt(adress,skiprows=1))\n",
    "    thetas.append(data[0])\n",
    "    peakpos.append(data[1])"
   ]
  },
  {
   "cell_type": "code",
   "execution_count": 16,
   "id": "038ad88b",
   "metadata": {},
   "outputs": [
    {
     "data": {
      "text/plain": [
       "(1500.0, 2500.0)"
      ]
     },
     "execution_count": 16,
     "metadata": {},
     "output_type": "execute_result"
    },
    {
     "data": {
      "image/png": "[encoded data removed]",
      "text/plain": [
       "<Figure size 432x288 with 1 Axes>"
      ]
     },
     "metadata": {
      "needs_background": "light"
     },
     "output_type": "display_data"
    }
   ],
   "source": [
    "\n",
    "plt.plot(thetas[1],peakpos[1], '.', alpha=0.1)\n",
    "#plt.plot(vinkler,2000*np.array(factors))\n",
    "plt.plot(vinkler,Tb(2480,vinkler/360*2*np.pi))\n",
    "plt.ylim(1500,energies[1])"
   ]
  },
  {
   "cell_type": "code",
   "execution_count": null,
   "id": "aeeb4c7c",
   "metadata": {},
   "outputs": [],
   "source": []
  },
  {
   "cell_type": "code",
   "execution_count": null,
   "id": "48eba311",
   "metadata": {},
   "outputs": [],
   "source": []
  }
 ],
 "metadata": {
  "kernelspec": {
   "display_name": "Python 3 (ipykernel)",
   "language": "python",
   "name": "python3"
  },
  "language_info": {
   "codemirror_mode": {
    "name": "ipython",
    "version": 3
   },
   "file_extension": ".py",
   "mimetype": "text/x-python",
   "name": "python",
   "nbconvert_exporter": "python",
   "pygments_lexer": "ipython3",
   "version": "3.9.7"
  }
 },
 "nbformat": 4,
 "nbformat_minor": 5
}
