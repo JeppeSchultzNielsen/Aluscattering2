{
 "cells": [
  {
   "cell_type": "code",
   "execution_count": 1,
   "id": "9da117ad",
   "metadata": {},
   "outputs": [],
   "source": [
    "from os import listdir\n",
    "from os.path import isfile, join\n",
    "import re\n",
    "import numpy as np\n",
    "import matplotlib.pyplot as plt\n",
    "from scipy.optimize import curve_fit\n",
    "import math as math\n",
    "from scipy.optimize import minimize\n",
    "import scipy.stats as ss\n",
    "from scipy.signal import find_peaks \n",
    "from matplotlib import rc\n",
    "import codecs\n",
    "\n",
    "SMALL_SIZE = 14\n",
    "MEDIUM_SIZE = 16\n",
    "BIGGER_SIZE = 20\n",
    "\n",
    "plt.rc('text', usetex=True)\n",
    "plt.rc('font', family='serif')\n",
    "plt.rc('font', size=SMALL_SIZE)          # controls default text sizes\n",
    "plt.rc('axes', titlesize=BIGGER_SIZE)     # fontsize of the axes title\n",
    "plt.rc('axes', labelsize=MEDIUM_SIZE)    # fontsize of the x and y labels\n",
    "plt.rc('xtick', labelsize=SMALL_SIZE)    # fontsize of the tick labels\n",
    "plt.rc('ytick', labelsize=SMALL_SIZE)    # fontsize of the tick labels\n",
    "plt.rc('legend', fontsize=SMALL_SIZE)    # legend fontsize\n",
    "plt.rc('figure', titlesize=BIGGER_SIZE)  # fontsize of the figure title\n",
    "\n",
    "#en figur der fylder en kolonne har bredde 5,8, f.eks: fig, ax= plt.subplots(figsize=(5.8,4))\n",
    "#en figur der fylder to kolonner har dobbeltbredde??"
   ]
  },
  {
   "cell_type": "code",
   "execution_count": 2,
   "id": "83ecc364",
   "metadata": {},
   "outputs": [],
   "source": [
    "#til at slå op i masses.dat\n",
    "data = np.transpose(np.loadtxt(\"masses.txt\"))\n",
    "\n",
    "N=data[0]\n",
    "Z=data[1]\n",
    "A=data[2]\n",
    "massExcess=data[3]\n",
    "bEPrNkl=data[4]\n",
    "\n",
    "mp = 938.272\n",
    "me = 0.510998\n",
    "mn = 939.565\n",
    "\n",
    "def me2(a, z):\n",
    "    a_indices = np.where(A == a)\n",
    "    z_indices = np.where(Z == z)\n",
    "    a = lambda: print('Could not find mass excess for given numbers')\n",
    "    for i in range(len(a_indices[0])):\n",
    "        if np.any(z_indices[0] == a_indices[0][i]):\n",
    "            me = massExcess[a_indices[0][i]]/1000\n",
    "            a = lambda: me\n",
    "    return a()\n",
    "\n",
    "def m2(a,z): \n",
    "    return a*931.49410242+me2(a,z)"
   ]
  },
  {
   "cell_type": "code",
   "execution_count": 3,
   "id": "20de12df",
   "metadata": {},
   "outputs": [],
   "source": [
    "def factor(m1, m2, t): #t er lab scatteringvinkel i radianer.\n",
    "    mr = m1*m2/(m1+m2)\n",
    "    \n",
    "    def toSolve(x):\n",
    "        return 1/np.tan(x)+m1/m2*1/np.sin(x)-1/np.tan(t)\n",
    "    \n",
    "    vinkelCOM = fsolve(toSolve,t) #brug t som startgæt til fsolve\n",
    "    \n",
    "    return mr**2*(1/m1**2+1/m2**2+2/(m1*m2)*np.cos(vinkelCOM))"
   ]
  },
  {
   "cell_type": "code",
   "execution_count": 4,
   "id": "ad3dd4fd",
   "metadata": {},
   "outputs": [],
   "source": [
    "#beregn Tb ud fra 11.5 i Krane\n",
    "def Tb(t,Ta):\n",
    "    mY=m2(27,13)\n",
    "    ma=mp\n",
    "    mb=mp\n",
    "    return np.power((np.sqrt(ma*mb*Ta)*np.cos(t)+np.sqrt((ma*mb*Ta*np.cos(t)**2+(mY+mb)*(mY-ma)*Ta)))/(mY+mb),2)"
   ]
  },
  {
   "cell_type": "code",
   "execution_count": 5,
   "id": "1de163d2",
   "metadata": {},
   "outputs": [],
   "source": [
    "vinkler = np.linspace(0,180,1000)\n",
    "factors = []\n",
    "\n",
    "mypath = \"peaks\"\n",
    "peaktxts = [f for f in listdir(mypath) if isfile(join(mypath, f))]"
   ]
  },
  {
   "cell_type": "code",
   "execution_count": 6,
   "id": "625d54cc",
   "metadata": {},
   "outputs": [
    {
     "data": {
      "text/plain": [
       "0.0285"
      ]
     },
     "execution_count": 6,
     "metadata": {},
     "output_type": "execute_result"
    }
   ],
   "source": [
    "57/2000"
   ]
  },
  {
   "cell_type": "code",
   "execution_count": 8,
   "id": "538bc3ba",
   "metadata": {},
   "outputs": [],
   "source": [
    "thetas = []\n",
    "peakpos = []\n",
    "energies = []\n",
    "pointsToFit = []\n",
    "anglesToFit = []\n",
    "errorsToFit = []\n",
    "fitindex = 0\n",
    "\n",
    "for i in range(len(peaktxts)):\n",
    "    energyGV = int(''.join(filter(str.isdigit, peaktxts[i])))\n",
    "    energies.append(energyGV)\n",
    "    adress = \"peaks/\" + peaktxts[i]\n",
    "    data = np.transpose(np.loadtxt(adress,skiprows=1))\n",
    "    thetas.append(data[0])\n",
    "    peakpos.append(data[1])\n",
    "    fittingGV = []\n",
    "    fittingTheta = []\n",
    "    fittingError = []\n",
    "    distance = 0.015*energyGV\n",
    "    for k in range(len(data[1])):\n",
    "        theta = data[0][k]\n",
    "        energyScatter = data[1][k]\n",
    "        energyError = data[2][k]\n",
    "        if(np.abs(energyScatter - Tb(theta/360*2*np.pi,energyGV)) <= distance):\n",
    "            fittingGV.append(energyScatter)\n",
    "            fittingTheta.append(theta)\n",
    "            fittingError.append(energyError)\n",
    "    pointsToFit.append(fittingGV)\n",
    "    anglesToFit.append(fittingTheta)\n",
    "    errorsToFit.append(fittingError)"
   ]
  },
  {
   "cell_type": "code",
   "execution_count": 9,
   "id": "038ad88b",
   "metadata": {},
   "outputs": [
    {
     "data": {
      "text/plain": [
       "(1001.0, 2001.0)"
      ]
     },
     "execution_count": 9,
     "metadata": {},
     "output_type": "execute_result"
    },
    {
     "data": {
      "image/png": "[encoded data removed]",
      "text/plain": [
       "<Figure size 640x480 with 1 Axes>"
      ]
     },
     "metadata": {
      "needs_background": "light"
     },
     "output_type": "display_data"
    }
   ],
   "source": [
    "i = 2\n",
    "plt.figure(figsize=(8, 6), dpi=80)\n",
    "plt.plot(thetas[i],peakpos[i], '.', alpha=1)\n",
    "#plt.plot(vinkler,2000*np.array(factors))\n",
    "plt.plot(vinkler,Tb(vinkler/360*2*np.pi,energies[i]))\n",
    "plt.plot(anglesToFit[i],pointsToFit[i], '.')\n",
    "plt.ylim(energies[i]-1000,energies[i])"
   ]
  },
  {
   "cell_type": "code",
   "execution_count": 14,
   "id": "a476240e",
   "metadata": {},
   "outputs": [],
   "source": [
    "gvE = []\n",
    "mE = []\n",
    "mEerr = []\n",
    "\n",
    "for i in range(len(energies)):\n",
    "    popt, pcov = curve_fit(Tb,anglesToFit[i],pointsToFit[i],energies[i])#sigma=errorsToFit[i],absolute_sigma=True)\n",
    "    gvE.append(energies[i]*1.17)\n",
    "    mE.append(popt[0])\n",
    "    mEerr.append(np.sqrt(pcov[0][0]))"
   ]
  },
  {
   "cell_type": "code",
   "execution_count": 15,
   "id": "70915a6a",
   "metadata": {},
   "outputs": [],
   "source": [
    "def l(x,a):\n",
    "    return a*x\n",
    "\n",
    "popt,pcov = curve_fit(l,gvE,mE,sigma=mEerr,absolute_sigma = False)"
   ]
  },
  {
   "cell_type": "code",
   "execution_count": 16,
   "id": "3b17b465",
   "metadata": {},
   "outputs": [
    {
     "data": {
      "text/plain": [
       "<matplotlib.legend.Legend at 0x7f232a2c8dc0>"
      ]
     },
     "execution_count": 16,
     "metadata": {},
     "output_type": "execute_result"
    },
    {
     "data": {
      "image/png": "[encoded data removed]",
      "text/plain": [
       "<Figure size 576x576 with 1 Axes>"
      ]
     },
     "metadata": {
      "needs_background": "light"
     },
     "output_type": "display_data"
    }
   ],
   "source": [
    "gvElinspace = np.linspace(2000,3700,1000)\n",
    "fig, ax = plt.subplots(figsize = [8,8])\n",
    "ax.errorbar(gvE,mE,yerr=mEerr,fmt='.',capsize=3, label = 'Data')\n",
    "ax.plot(gvElinspace,l(gvElinspace,*popt), label = r'y = a $\\cdot$ x + b with a=' + str(np.round(popt[0],4)))# + \", b=\" + str(np.round(popt[1],4)))\n",
    "ax.set_xlabel('GV energy [keV]')\n",
    "ax.set_ylabel('Fitted accelerator energy [keV]')\n",
    "ax.legend()"
   ]
  },
  {
   "cell_type": "code",
   "execution_count": 13,
   "id": "3d9a1288",
   "metadata": {},
   "outputs": [
    {
     "data": {
      "text/plain": [
       "1.2101089667180351"
      ]
     },
     "execution_count": 13,
     "metadata": {},
     "output_type": "execute_result"
    }
   ],
   "source": [
    "1/popt[0]"
   ]
  },
  {
   "cell_type": "code",
   "execution_count": null,
   "id": "162de311",
   "metadata": {},
   "outputs": [],
   "source": []
  }
 ],
 "metadata": {
  "kernelspec": {
   "display_name": "Python 3 (ipykernel)",
   "language": "python",
   "name": "python3"
  },
  "language_info": {
   "codemirror_mode": {
    "name": "ipython",
    "version": 3
   },
   "file_extension": ".py",
   "mimetype": "text/x-python",
   "name": "python",
   "nbconvert_exporter": "python",
   "pygments_lexer": "ipython3",
   "version": "3.9.7"
  }
 },
 "nbformat": 4,
 "nbformat_minor": 5
}
